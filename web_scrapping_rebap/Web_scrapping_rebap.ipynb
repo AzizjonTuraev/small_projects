{
 "cells": [
  {
   "cell_type": "code",
   "execution_count": 1,
   "id": "28b0661c",
   "metadata": {},
   "outputs": [],
   "source": [
    "import time\n",
    "from selenium import webdriver\n",
    "from selenium.webdriver.common.by import By\n",
    "from selenium.webdriver.chrome.options import Options\n",
    "from webdriver_manager.chrome import ChromeDriverManager"
   ]
  },
  {
   "cell_type": "code",
   "execution_count": 2,
   "id": "92185cfb",
   "metadata": {},
   "outputs": [],
   "source": [
    "def website_opener(website_url):\n",
    "    \n",
    "    options = Options()\n",
    "\n",
    "    # chrome opening\n",
    "    driver = webdriver.Chrome(options=options)\n",
    "    print('Browser opened')\n",
    "\n",
    "    # website opening\n",
    "    driver.get(website_url)\n",
    "    print('The website opened')\n",
    "\n",
    "    # chrome window maximizing\n",
    "    driver.maximize_window()\n",
    "    \n",
    "    return driver\n"
   ]
  },
  {
   "cell_type": "code",
   "execution_count": 3,
   "id": "51395a0d",
   "metadata": {},
   "outputs": [],
   "source": [
    "def cookies_rejection(driver):\n",
    "\n",
    "    shadow_root_script = \"return document.getElementById('usercentrics-root').shadowRoot\"\n",
    "    shadow_root = driver.execute_script(shadow_root_script)\n",
    "    shadow_root_element = driver.find_element(By.ID, 'usercentrics-root')\n",
    "    shadow_root = driver.execute_script('return arguments[0].shadowRoot', shadow_root_element)\n",
    "\n",
    "    reject_button = shadow_root.find_element(By.CSS_SELECTOR, 'button[data-testid=\"uc-deny-all-button\"]')\n",
    "    driver.execute_script(\"arguments[0].scrollIntoView();\", reject_button)\n",
    "    time.sleep(1)\n",
    "    reject_button.click()\n",
    "    print('Cookies are rejected')\n"
   ]
  },
  {
   "cell_type": "code",
   "execution_count": 4,
   "id": "3fee311c",
   "metadata": {},
   "outputs": [],
   "source": [
    "def date_entry(driver, date_str):\n",
    "    \n",
    "    \"\"\"\n",
    "    The format of date_str should be like that 'DD MM YYYY'\n",
    "    To get the month names go to the website and check their names on a calendar\n",
    "    Jan, Feb, Mrz, Apr, Mai, Jun, Jul, Aug, Sep, Okt, Nov, Dez\n",
    "    \"\"\"\n",
    "    \n",
    "    \n",
    "    time.sleep(1)\n",
    "    driver.find_element(By.CLASS_NAME, 'rcTitlebar').click()\n",
    "    print(\"additional window opened\")\n",
    "\n",
    "    # you can edit 2021 to change year \n",
    "    time.sleep(1)\n",
    "    driver.find_element(By.XPATH, f\"//table[@class = 'RadCalendarMonthView RadCalendarMonthView_Netz']//a[text()={date_str.split()[2]}]\").click()\n",
    "    print(\"Year selected\")\n",
    "\n",
    "    # you can edit Feb to change month \n",
    "    time.sleep(1)\n",
    "    driver.find_element(By.XPATH, f\"//table[@class = 'RadCalendarMonthView RadCalendarMonthView_Netz']//a[text()='{date_str.split()[1]}']\").click()\n",
    "    print(\"Month selected\")\n",
    "\n",
    "    time.sleep(1)\n",
    "    driver.find_element(By.ID, 'rcMView_OK').click()\n",
    "\n",
    "    # you can edit 18 to change date \n",
    "    time.sleep(1)\n",
    "    # driver.find_element(By.XPATH, f\"//table[@class = 'rcMainTable']//a[text()={date_str.split()[0]}]\").click()\n",
    "    calendar_month_xpath = "//div[@class='RadCalendar RadCalendar_Netz']//span[@class='rcTitle']",
    "    WebDriverWait(driver, 10).until(EC.text_to_be_present_in_element((By.XPATH, calendar_month_xpath), date_str.split()[1])),
    "    # Select the desired day,
    "    day = date_str.split()[0],
    "    day_link_xpath = f"//table[@class='rcMainTable']//a[text()='{day}']",
    "    WebDriverWait(driver, 10).until(EC.visibility_of_element_located((By.XPATH, day_link_xpath))).click(),
    "    print(\"Day selected\")\n"
   ]
  },
  {
   "cell_type": "code",
   "execution_count": 5,
   "id": "ea0e2b2f",
   "metadata": {},
   "outputs": [],
   "source": [
    "def calendar_opener(driver, id_name):\n",
    "    \n",
    "    calendar_button = driver.find_element(By.ID, id_name)\n",
    "    calendar_button.click()\n",
    "    print(\"calendar_button clicked\")\n"
   ]
  },
  {
   "cell_type": "code",
   "execution_count": 6,
   "id": "1f7bbe57",
   "metadata": {},
   "outputs": [],
   "source": [
    "def download_button(driver):\n",
    "    \n",
    "    # Here first dowload button is found\n",
    "    download_button = driver.find_element(By.ID, \"dnn_ctr1578_View_btnDownloadGridCsv\")\n",
    "    time.sleep(1)\n",
    "    print(\"Button to download is found\")\n",
    "\n",
    "    download_button.click()\n",
    "    time.sleep(2)\n",
    "    print(\"CSV File has been downloaded\")\n",
    "    "
   ]
  },
  {
   "cell_type": "code",
   "execution_count": 7,
   "id": "e1b8691a",
   "metadata": {},
   "outputs": [
    {
     "name": "stdout",
     "output_type": "stream",
     "text": [
      "Browser opened\n",
      "The website opened\n",
      "Cookies are rejected\n",
      "calendar_button clicked\n",
      "additional window opened\n",
      "Year selected\n",
      "Month selected\n",
      "Day selected\n",
      "calendar_button clicked\n",
      "additional window opened\n",
      "Year selected\n",
      "Month selected\n",
      "Day selected\n",
      "Button to download is found\n",
      "CSV File has been downloaded\n",
      "Browser closed\n"
     ]
    }
   ],
   "source": [
    "url = \"https://www.netztransparenz.de/Daten-zur-Regelenergie/reBAP/reBAP\"\n",
    "driver = website_opener(url)\n",
    "time.sleep(1)\n",
    "\n",
    "# Rejecting coookies request - shadow root getting. This is necessary when rejecting cookies html code is hidden\n",
    "cookies_rejection(driver)\n",
    "\n",
    "is_error = False\n",
    "\n",
    "try:\n",
    "    # There are 2 calendars to input period start and end dates\n",
    "    \n",
    "    ### von ###\n",
    "    calendar_opener(driver, 'dnn_ctr1578_View_rdpGridDownloadStartDate_popupButton')\n",
    "    date_entry(driver, '18 Feb 2021')\n",
    "    time.sleep(1)\n",
    "\n",
    "    ### bis ###\n",
    "    calendar_opener(driver, 'dnn_ctr1578_View_rdpGridDownloadEndDate_popupButton')\n",
    "    date_entry(driver, '18 Jul 2021')\n",
    "\n",
    "    download_button(driver)\n",
    "\n",
    "except:\n",
    "    is_error = True\n",
    "    \n",
    "if is_error:\n",
    "    print('\\n There is an error. Check the date entry. Process finished unsuccessfully \\n')\n",
    "\n",
    "# chrome window is closed\n",
    "driver.quit()\n",
    "print('Browser closed')"
   ]
  },
  {
   "cell_type": "code",
   "execution_count": null,
   "id": "67fc167c",
   "metadata": {},
   "outputs": [],
   "source": []
  },
  {
   "cell_type": "code",
   "execution_count": null,
   "id": "30337837",
   "metadata": {},
   "outputs": [],
   "source": []
  },
  {
   "cell_type": "code",
   "execution_count": null,
   "id": "e4a53810",
   "metadata": {},
   "outputs": [],
   "source": []
  }
 ],
 "metadata": {
  "kernelspec": {
   "display_name": "Python 3 (ipykernel)",
   "language": "python",
   "name": "python3"
  },
  "language_info": {
   "codemirror_mode": {
    "name": "ipython",
    "version": 3
   },
   "file_extension": ".py",
   "mimetype": "text/x-python",
   "name": "python",
   "nbconvert_exporter": "python",
   "pygments_lexer": "ipython3",
   "version": "3.9.12"
  }
 },
 "nbformat": 4,
 "nbformat_minor": 5
}

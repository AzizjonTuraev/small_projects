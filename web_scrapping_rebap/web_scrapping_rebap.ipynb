{
 "cells": [
  {
   "cell_type": "code",
   "execution_count": 1,
   "id": "5ffb8da8",
   "metadata": {},
   "outputs": [],
   "source": [
    "import time\n",
    "from selenium import webdriver\n",
    "from selenium.webdriver.common.by import By\n",
    "from selenium.webdriver.chrome.options import Options\n",
    "from webdriver_manager.chrome import ChromeDriverManager"
   ]
  },
  {
   "cell_type": "code",
   "execution_count": 2,
   "id": "aa1ee8d6",
   "metadata": {},
   "outputs": [],
   "source": [
    "def website_opener(website_url):\n",
    "    \n",
    "    options = Options()\n",
    "\n",
    "    # chrome opening\n",
    "    driver = webdriver.Chrome(options=options)\n",
    "    print('Browser opened')\n",
    "    time.sleep(1)\n",
    "    \n",
    "    # website opening\n",
    "    driver.get(website_url)\n",
    "    time.sleep(1)\n",
    "    print('The website opened')\n",
    "\n",
    "    return driver"
   ]
  },
  {
   "cell_type": "code",
   "execution_count": 3,
   "id": "03b34be1",
   "metadata": {},
   "outputs": [],
   "source": [
    "def cookies_rejection(driver):\n",
    "\n",
    "    shadow_root_script = \"return document.getElementById('usercentrics-root').shadowRoot\"\n",
    "    shadow_root = driver.execute_script(shadow_root_script)\n",
    "    shadow_root_element = driver.find_element(By.ID, 'usercentrics-root')\n",
    "    shadow_root = driver.execute_script('return arguments[0].shadowRoot', shadow_root_element)\n",
    "\n",
    "    reject_button = shadow_root.find_element(By.CSS_SELECTOR, 'button[data-testid=\"uc-deny-all-button\"]')\n",
    "    driver.execute_script(\"arguments[0].scrollIntoView();\", reject_button)\n",
    "    time.sleep(1)\n",
    "    reject_button.click()\n",
    "    print('Cookies are rejected')"
   ]
  },
  {
   "cell_type": "code",
   "execution_count": 4,
   "id": "587f5844",
   "metadata": {},
   "outputs": [],
   "source": [
    "def date_entry(driver, calendar_id, date_str):\n",
    "    \n",
    "    date_input = driver.find_element(By.ID, calendar_id)\n",
    "    date_input.clear()  # Clear the existing value if any\n",
    "    date_input.send_keys(date_str)  # Enter the desired date\n",
    "    print('Date entered')"
   ]
  },
  {
   "cell_type": "code",
   "execution_count": 5,
   "id": "a5106c86",
   "metadata": {},
   "outputs": [],
   "source": [
    "def download_button(driver):\n",
    "    \n",
    "    # Here first dowload button is found\n",
    "    download_button = driver.find_element(By.ID, \"dnn_ctr1578_View_btnDownloadGridCsv\")\n",
    "#    time.sleep(1)\n",
    "    print(\"Button to download is found\")\n",
    "\n",
    "    download_button.click()\n",
    "    time.sleep(3)\n",
    "    print(\"CSV File has been downloaded\")"
   ]
  },
  {
   "cell_type": "code",
   "execution_count": 6,
   "id": "30ce0a39",
   "metadata": {},
   "outputs": [
    {
     "name": "stdout",
     "output_type": "stream",
     "text": [
      "Browser opened\n",
      "The website opened\n",
      "Cookies are rejected\n",
      "Date entered\n",
      "Date entered\n",
      "Button to download is found\n",
      "CSV File has been downloaded\n",
      "Browser closed\n"
     ]
    }
   ],
   "source": [
    "url = \"https://www.netztransparenz.de/Daten-zur-Regelenergie/reBAP/reBAP\"\n",
    "driver = website_opener(url)\n",
    "time.sleep(1)\n",
    "\n",
    "# Rejecting coookies request - shadow root getting. This is necessary when rejecting cookies html code is hidden\n",
    "cookies_rejection(driver)\n",
    "\n",
    "is_error = False\n",
    "\n",
    "try:\n",
    "    # There are 2 calendars to input period start and end dates    \n",
    "    ### von ###\n",
    "    date_entry(driver, 'dnn_ctr1578_View_rdpGridDownloadStartDate_dateInput', '01.04.2023')\n",
    "    ### bis ###\n",
    "    date_entry(driver, 'dnn_ctr1578_View_rdpGridDownloadEndDate_dateInput', '30.04.2023')\n",
    "\n",
    "    download_button(driver)\n",
    "    time.sleep(15)\n",
    "\n",
    "except:\n",
    "    is_error = True\n",
    "    \n",
    "if is_error:\n",
    "    print('\\n There is an error. Check the date entry. Process finished unsuccessfully \\n')\n",
    "\n",
    "# chrome window is closed\n",
    "driver.quit()\n",
    "print('Browser closed')"
   ]
  },
  {
   "cell_type": "code",
   "execution_count": null,
   "id": "f6acf573",
   "metadata": {},
   "outputs": [],
   "source": []
  },
  {
   "cell_type": "code",
   "execution_count": null,
   "id": "b465828e",
   "metadata": {},
   "outputs": [],
   "source": []
  }
 ],
 "metadata": {
  "kernelspec": {
   "display_name": "Python 3 (ipykernel)",
   "language": "python",
   "name": "python3"
  },
  "language_info": {
   "codemirror_mode": {
    "name": "ipython",
    "version": 3
   },
   "file_extension": ".py",
   "mimetype": "text/x-python",
   "name": "python",
   "nbconvert_exporter": "python",
   "pygments_lexer": "ipython3",
   "version": "3.10.9"
  }
 },
 "nbformat": 4,
 "nbformat_minor": 5
}

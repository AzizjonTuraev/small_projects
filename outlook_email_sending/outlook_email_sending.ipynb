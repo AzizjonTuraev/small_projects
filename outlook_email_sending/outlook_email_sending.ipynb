{
 "cells": [
  {
   "cell_type": "code",
   "execution_count": 1,
   "id": "8905feec",
   "metadata": {},
   "outputs": [],
   "source": [
    "import win32com.client as win32"
   ]
  },
  {
   "cell_type": "code",
   "execution_count": 2,
   "id": "cb9da8ca",
   "metadata": {},
   "outputs": [],
   "source": [
    "def send_email(Sender_account, \n",
    "               Receivers_list, \n",
    "               Subject, \n",
    "               Body,\n",
    "              attachment_path = None):\n",
    "    \n",
    "    outlook = win32.Dispatch('Outlook.Application')\n",
    "    mail = outlook.CreateItem(0)    \n",
    "    \n",
    "    mail.CC = ', '.join(Receivers_list[1:])\n",
    "    mail.Subject = Subject\n",
    "    mail.Body = Body\n",
    "    mail.To = Receivers_list[0]\n",
    "\n",
    "    if attachment_path:\n",
    "        mail.Attachments.Add(attachment_path)\n",
    "\n",
    "    # this changes the Outlook sender email address, if there are more than 1 Outlook users\n",
    "    for account in outlook.Session.Accounts:\n",
    "        if account.SmtpAddress == Sender_account or account.DisplayName == Sender_account:\n",
    "            mail.SentOnBehalfOfName = account.DisplayName\n",
    "            mail.SendUsingAccount = account\n",
    "            break\n",
    "\n",
    "    mail.Send()\n",
    "    print('Email sent successfully!')"
   ]
  },
  {
   "cell_type": "code",
   "execution_count": 3,
   "id": "07c6b39b",
   "metadata": {},
   "outputs": [],
   "source": [
    "Sender_account = 'example1@outlook.de'\n",
    "Receivers_list = ['example2@outlook.de', 'example2@outlook.de']\n",
    "\n",
    "Subject = 'Test Email'\n",
    "\n",
    "Body = 'This is a test email sent using Python script'\n",
    "\n",
    "attachment_path = 'C:\\\\path\\\\to\\\\file\\\\filename.ipynb'"
   ]
  },
  {
   "cell_type": "code",
   "execution_count": 4,
   "id": "e87353fe",
   "metadata": {},
   "outputs": [
    {
     "name": "stdout",
     "output_type": "stream",
     "text": [
      "Email sent successfully!\n"
     ]
    }
   ],
   "source": [
    "send_email(Sender_account, Receivers_list, Subject, Body, attachment_path)"
   ]
  },
  {
   "cell_type": "code",
   "execution_count": null,
   "id": "52ad05ba",
   "metadata": {},
   "outputs": [],
   "source": []
  },
  {
   "cell_type": "code",
   "execution_count": null,
   "id": "80e5b869",
   "metadata": {},
   "outputs": [],
   "source": []
  }
 ],
 "metadata": {
  "kernelspec": {
   "display_name": "Python 3 (ipykernel)",
   "language": "python",
   "name": "python3"
  },
  "language_info": {
   "codemirror_mode": {
    "name": "ipython",
    "version": 3
   },
   "file_extension": ".py",
   "mimetype": "text/x-python",
   "name": "python",
   "nbconvert_exporter": "python",
   "pygments_lexer": "ipython3",
   "version": "3.10.9"
  }
 },
 "nbformat": 4,
 "nbformat_minor": 5
}

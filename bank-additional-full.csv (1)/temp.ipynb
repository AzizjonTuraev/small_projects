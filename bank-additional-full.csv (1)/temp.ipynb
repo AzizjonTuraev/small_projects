{
 "cells": [
  {
   "cell_type": "code",
   "execution_count": 1,
   "metadata": {},
   "outputs": [
    {
     "name": "stdout",
     "output_type": "stream",
     "text": [
      "Collecting transformers\n",
      "  Downloading transformers-4.35.2-py3-none-any.whl.metadata (123 kB)\n",
      "     ---------------------------------------- 0.0/123.5 kB ? eta -:--:--\n",
      "     ---------------------------------------- 0.0/123.5 kB ? eta -:--:--\n",
      "     --- ------------------------------------ 10.2/123.5 kB ? eta -:--:--\n",
      "     --------- --------------------------- 30.7/123.5 kB 330.3 kB/s eta 0:00:01\n",
      "     ------------ ------------------------ 41.0/123.5 kB 281.8 kB/s eta 0:00:01\n",
      "     ------------------------ ------------ 81.9/123.5 kB 508.4 kB/s eta 0:00:01\n",
      "     ------------------------------------ 123.5/123.5 kB 658.4 kB/s eta 0:00:00\n",
      "Requirement already satisfied: filelock in c:\\users\\azizt\\anaconda3\\envs\\env_test\\lib\\site-packages (from transformers) (3.13.0)\n",
      "Collecting huggingface-hub<1.0,>=0.16.4 (from transformers)\n",
      "  Downloading huggingface_hub-0.19.4-py3-none-any.whl.metadata (14 kB)\n",
      "Requirement already satisfied: numpy>=1.17 in c:\\users\\azizt\\anaconda3\\envs\\env_test\\lib\\site-packages (from transformers) (1.26.1)\n",
      "Requirement already satisfied: packaging>=20.0 in c:\\users\\azizt\\anaconda3\\envs\\env_test\\lib\\site-packages (from transformers) (23.2)\n",
      "Collecting pyyaml>=5.1 (from transformers)\n",
      "  Downloading PyYAML-6.0.1-cp311-cp311-win_amd64.whl.metadata (2.1 kB)\n",
      "Requirement already satisfied: regex!=2019.12.17 in c:\\users\\azizt\\anaconda3\\envs\\env_test\\lib\\site-packages (from transformers) (2023.10.3)\n",
      "Requirement already satisfied: requests in c:\\users\\azizt\\anaconda3\\envs\\env_test\\lib\\site-packages (from transformers) (2.31.0)\n",
      "Collecting tokenizers<0.19,>=0.14 (from transformers)\n",
      "  Downloading tokenizers-0.15.0-cp311-none-win_amd64.whl.metadata (6.8 kB)\n",
      "Collecting safetensors>=0.3.1 (from transformers)\n",
      "  Downloading safetensors-0.4.0-cp311-none-win_amd64.whl.metadata (3.8 kB)\n",
      "Requirement already satisfied: tqdm>=4.27 in c:\\users\\azizt\\anaconda3\\envs\\env_test\\lib\\site-packages (from transformers) (4.66.1)\n",
      "Requirement already satisfied: fsspec>=2023.5.0 in c:\\users\\azizt\\anaconda3\\envs\\env_test\\lib\\site-packages (from huggingface-hub<1.0,>=0.16.4->transformers) (2023.10.0)\n",
      "Requirement already satisfied: typing-extensions>=3.7.4.3 in c:\\users\\azizt\\anaconda3\\envs\\env_test\\lib\\site-packages (from huggingface-hub<1.0,>=0.16.4->transformers) (4.8.0)\n",
      "Requirement already satisfied: colorama in c:\\users\\azizt\\anaconda3\\envs\\env_test\\lib\\site-packages (from tqdm>=4.27->transformers) (0.4.6)\n",
      "Requirement already satisfied: charset-normalizer<4,>=2 in c:\\users\\azizt\\anaconda3\\envs\\env_test\\lib\\site-packages (from requests->transformers) (3.3.1)\n",
      "Requirement already satisfied: idna<4,>=2.5 in c:\\users\\azizt\\anaconda3\\envs\\env_test\\lib\\site-packages (from requests->transformers) (3.4)\n",
      "Requirement already satisfied: urllib3<3,>=1.21.1 in c:\\users\\azizt\\anaconda3\\envs\\env_test\\lib\\site-packages (from requests->transformers) (2.0.7)\n",
      "Requirement already satisfied: certifi>=2017.4.17 in c:\\users\\azizt\\anaconda3\\envs\\env_test\\lib\\site-packages (from requests->transformers) (2023.7.22)\n",
      "Downloading transformers-4.35.2-py3-none-any.whl (7.9 MB)\n",
      "   ---------------------------------------- 0.0/7.9 MB ? eta -:--:--\n",
      "   - -------------------------------------- 0.2/7.9 MB 6.3 MB/s eta 0:00:02\n",
      "   --- ------------------------------------ 0.6/7.9 MB 7.6 MB/s eta 0:00:01\n",
      "   ----- ---------------------------------- 1.2/7.9 MB 9.3 MB/s eta 0:00:01\n",
      "   --------- ------------------------------ 1.8/7.9 MB 10.6 MB/s eta 0:00:01\n",
      "   ------------ --------------------------- 2.5/7.9 MB 11.6 MB/s eta 0:00:01\n",
      "   --------------- ------------------------ 3.0/7.9 MB 11.3 MB/s eta 0:00:01\n",
      "   --------------- ------------------------ 3.0/7.9 MB 11.3 MB/s eta 0:00:01\n",
      "   --------------- ------------------------ 3.0/7.9 MB 8.4 MB/s eta 0:00:01\n",
      "   --------------- ------------------------ 3.0/7.9 MB 8.4 MB/s eta 0:00:01\n",
      "   ---------------- ----------------------- 3.3/7.9 MB 7.5 MB/s eta 0:00:01\n",
      "   -------------------- ------------------- 4.1/7.9 MB 8.2 MB/s eta 0:00:01\n",
      "   ----------------------- ---------------- 4.7/7.9 MB 8.7 MB/s eta 0:00:01\n",
      "   --------------------------- ------------ 5.4/7.9 MB 9.2 MB/s eta 0:00:01\n",
      "   ------------------------------ --------- 6.1/7.9 MB 9.5 MB/s eta 0:00:01\n",
      "   --------------------------------- ------ 6.6/7.9 MB 9.6 MB/s eta 0:00:01\n",
      "   ------------------------------------ --- 7.2/7.9 MB 10.1 MB/s eta 0:00:01\n",
      "   ---------------------------------------  7.9/7.9 MB 10.1 MB/s eta 0:00:01\n",
      "   ---------------------------------------- 7.9/7.9 MB 9.7 MB/s eta 0:00:00\n",
      "Downloading huggingface_hub-0.19.4-py3-none-any.whl (311 kB)\n",
      "   ---------------------------------------- 0.0/311.7 kB ? eta -:--:--\n",
      "   ---------------------------------------- 311.7/311.7 kB 9.4 MB/s eta 0:00:00\n",
      "Downloading PyYAML-6.0.1-cp311-cp311-win_amd64.whl (144 kB)\n",
      "   ---------------------------------------- 0.0/144.7 kB ? eta -:--:--\n",
      "   ---------------------------------------- 144.7/144.7 kB 8.4 MB/s eta 0:00:00\n",
      "Downloading safetensors-0.4.0-cp311-none-win_amd64.whl (277 kB)\n",
      "   ---------------------------------------- 0.0/277.4 kB ? eta -:--:--\n",
      "   --------------------------------------- 277.4/277.4 kB 16.7 MB/s eta 0:00:00\n",
      "Downloading tokenizers-0.15.0-cp311-none-win_amd64.whl (2.2 MB)\n",
      "   ---------------------------------------- 0.0/2.2 MB ? eta -:--:--\n",
      "   ------------- -------------------------- 0.7/2.2 MB 15.3 MB/s eta 0:00:01\n",
      "   ------------------------ --------------- 1.4/2.2 MB 14.4 MB/s eta 0:00:01\n",
      "   --------------------------------- ------ 1.9/2.2 MB 13.1 MB/s eta 0:00:01\n",
      "   ---------------------------------------- 2.2/2.2 MB 12.7 MB/s eta 0:00:00\n",
      "Installing collected packages: safetensors, pyyaml, huggingface-hub, tokenizers, transformers\n",
      "Successfully installed huggingface-hub-0.19.4 pyyaml-6.0.1 safetensors-0.4.0 tokenizers-0.15.0 transformers-4.35.2\n",
      "Requirement already satisfied: torch in c:\\users\\azizt\\anaconda3\\envs\\env_test\\lib\\site-packages (2.1.0)\n",
      "Requirement already satisfied: filelock in c:\\users\\azizt\\anaconda3\\envs\\env_test\\lib\\site-packages (from torch) (3.13.0)\n",
      "Requirement already satisfied: typing-extensions in c:\\users\\azizt\\anaconda3\\envs\\env_test\\lib\\site-packages (from torch) (4.8.0)\n",
      "Requirement already satisfied: sympy in c:\\users\\azizt\\anaconda3\\envs\\env_test\\lib\\site-packages (from torch) (1.12)\n",
      "Requirement already satisfied: networkx in c:\\users\\azizt\\anaconda3\\envs\\env_test\\lib\\site-packages (from torch) (3.2.1)\n",
      "Requirement already satisfied: jinja2 in c:\\users\\azizt\\anaconda3\\envs\\env_test\\lib\\site-packages (from torch) (3.1.2)\n",
      "Requirement already satisfied: fsspec in c:\\users\\azizt\\anaconda3\\envs\\env_test\\lib\\site-packages (from torch) (2023.10.0)\n",
      "Requirement already satisfied: MarkupSafe>=2.0 in c:\\users\\azizt\\anaconda3\\envs\\env_test\\lib\\site-packages (from jinja2->torch) (2.1.3)\n",
      "Requirement already satisfied: mpmath>=0.19 in c:\\users\\azizt\\anaconda3\\envs\\env_test\\lib\\site-packages (from sympy->torch) (1.3.0)\n"
     ]
    }
   ],
   "source": [
    "!pip install transformers\n",
    "!pip install torch\n"
   ]
  },
  {
   "cell_type": "code",
   "execution_count": 2,
   "metadata": {},
   "outputs": [
    {
     "name": "stderr",
     "output_type": "stream",
     "text": [
      "c:\\Users\\azizt\\anaconda3\\envs\\env_test\\Lib\\site-packages\\tqdm\\auto.py:21: TqdmWarning: IProgress not found. Please update jupyter and ipywidgets. See https://ipywidgets.readthedocs.io/en/stable/user_install.html\n",
      "  from .autonotebook import tqdm as notebook_tqdm\n"
     ]
    }
   ],
   "source": [
    "from transformers import GPT2LMHeadModel, GPT2Tokenizer\n",
    "import torch\n"
   ]
  },
  {
   "cell_type": "code",
   "execution_count": 3,
   "metadata": {},
   "outputs": [
    {
     "name": "stderr",
     "output_type": "stream",
     "text": [
      "config.json: 100%|██████████| 665/665 [00:00<?, ?B/s] \n",
      "c:\\Users\\azizt\\anaconda3\\envs\\env_test\\Lib\\site-packages\\huggingface_hub\\file_download.py:147: UserWarning: `huggingface_hub` cache-system uses symlinks by default to efficiently store duplicated files but your machine does not support them in C:\\Users\\azizt\\.cache\\huggingface\\hub. Caching files will still work but in a degraded version that might require more space on your disk. This warning can be disabled by setting the `HF_HUB_DISABLE_SYMLINKS_WARNING` environment variable. For more details, see https://huggingface.co/docs/huggingface_hub/how-to-cache#limitations.\n",
      "To support symlinks on Windows, you either need to activate Developer Mode or to run Python as an administrator. In order to see activate developer mode, see this article: https://docs.microsoft.com/en-us/windows/apps/get-started/enable-your-device-for-development\n",
      "  warnings.warn(message)\n",
      "model.safetensors: 100%|██████████| 548M/548M [00:43<00:00, 12.7MB/s] \n",
      "generation_config.json: 100%|██████████| 124/124 [00:00<?, ?B/s] \n",
      "vocab.json: 100%|██████████| 1.04M/1.04M [00:00<00:00, 2.69MB/s]\n",
      "merges.txt: 100%|██████████| 456k/456k [00:00<00:00, 1.54MB/s]\n",
      "tokenizer.json: 100%|██████████| 1.36M/1.36M [00:00<00:00, 13.4MB/s]\n"
     ]
    }
   ],
   "source": [
    "model = GPT2LMHeadModel.from_pretrained('gpt2')\n",
    "tokenizer = GPT2Tokenizer.from_pretrained('gpt2')\n"
   ]
  },
  {
   "cell_type": "code",
   "execution_count": 6,
   "metadata": {},
   "outputs": [
    {
     "name": "stderr",
     "output_type": "stream",
     "text": [
      "The attention mask and the pad token id were not set. As a consequence, you may observe unexpected behavior. Please pass your input's `attention_mask` to obtain reliable results.\n",
      "Setting `pad_token_id` to `eos_token_id`:50256 for open-end generation.\n"
     ]
    },
    {
     "name": "stdout",
     "output_type": "stream",
     "text": [
      "                                      Generated Data\n",
      "0  Generate synthetic tabular data.\\n\\nCreate a n...\n",
      "1  Generate synthetic tabular data.\\n\\nCreate a n...\n",
      "2  Generate synthetic tabular data.\\n\\nCreate a n...\n",
      "3  Generate synthetic tabular data.\\n\\nCreate a n...\n",
      "4  Generate synthetic tabular data.\\n\\nCreate a n...\n"
     ]
    }
   ],
   "source": [
    "import pandas as pd\n",
    "from transformers import GPT2LMHeadModel, GPT2Tokenizer\n",
    "\n",
    "# Load the pre-trained GPT2 model and tokenizer\n",
    "model = GPT2LMHeadModel.from_pretrained('gpt2')\n",
    "tokenizer = GPT2Tokenizer.from_pretrained('gpt2')\n",
    "\n",
    "# Define a function to generate synthetic tabular data\n",
    "def generate_synthetic_data(prompt, num_samples):\n",
    "    # Tokenize the prompt\n",
    "    input_ids = tokenizer.encode(prompt, return_tensors='pt')\n",
    "    \n",
    "    # Generate synthetic data using the GPT2 model with beam search\n",
    "    outputs = model.generate(input_ids, max_length=100, num_return_sequences=num_samples, num_beams=5)\n",
    "    \n",
    "    # Decode the generated sequences\n",
    "    generated_data = [tokenizer.decode(output, skip_special_tokens=True) for output in outputs]\n",
    "    \n",
    "    # Convert the generated data to a pandas DataFrame\n",
    "    df = pd.DataFrame(generated_data, columns=['Generated Data'])\n",
    "    \n",
    "    return df\n",
    "\n",
    "# Example usage\n",
    "prompt = \"Generate synthetic tabular data\"\n",
    "num_samples = 5\n",
    "\n",
    "synthetic_data = generate_synthetic_data(prompt, num_samples)\n",
    "\n",
    "print(synthetic_data)\n"
   ]
  },
  {
   "cell_type": "code",
   "execution_count": null,
   "metadata": {},
   "outputs": [],
   "source": [
    "# Load the pre-trained GPT2 model and tokenizer\n",
    "model = GPT2LMHeadModel.from_pretrained('gpt2')\n",
    "tokenizer = GPT2Tokenizer.from_pretrained('gpt2')\n",
    "\n",
    "# Define a function to generate synthetic tabular data\n",
    "def generate_synthetic_data(prompt, num_samples):\n",
    "    # Tokenize the prompt\n",
    "    input_ids = tokenizer.encode(prompt, return_tensors='pt')\n",
    "    \n",
    "    # Generate synthetic data using the GPT2 model with beam search\n",
    "    outputs = model.generate(input_ids, max_length=100, num_return_sequences=num_samples, num_beams=5)\n",
    "    \n",
    "    # Decode the generated sequences\n",
    "    generated_data = [tokenizer.decode(output, skip_special_tokens=True) for output in outputs]\n",
    "    \n",
    "    # Convert the generated data to a pandas DataFrame\n",
    "    df = pd.DataFrame(generated_data, columns=['Generated Data'])\n",
    "    \n",
    "    return df\n",
    "\n",
    "# Example usage\n",
    "prompt = \"Generate synthetic tabular data\"\n",
    "num_samples = 5\n",
    "\n",
    "synthetic_data = generate_synthetic_data(prompt, num_samples)\n",
    "\n",
    "print(synthetic_data)\n"
   ]
  }
 ],
 "metadata": {
  "kernelspec": {
   "display_name": "env_test",
   "language": "python",
   "name": "python3"
  },
  "language_info": {
   "codemirror_mode": {
    "name": "ipython",
    "version": 3
   },
   "file_extension": ".py",
   "mimetype": "text/x-python",
   "name": "python",
   "nbconvert_exporter": "python",
   "pygments_lexer": "ipython3",
   "version": "3.11.5"
  }
 },
 "nbformat": 4,
 "nbformat_minor": 2
}
